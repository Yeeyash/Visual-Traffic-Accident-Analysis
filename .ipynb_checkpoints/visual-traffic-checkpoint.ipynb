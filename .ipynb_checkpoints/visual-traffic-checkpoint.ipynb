{
 "cells": [
  {
   "cell_type": "markdown",
   "metadata": {},
   "source": [
    "# Visual Data Analysis of Accidents Using Python, NumPy, Pandas, Matplotlib and Seaborn\n",
    "\n",
    "This Notebook is an Extended Variant of the Work already presented (Titled: An Exploratory Data Analysis of Accidents Using Python, NumPy and Pandas.) , which was also based on understanding the purpose of Data Analysis and dealing with Extensive Libraries such as Pandas, NumPy, Matplotlib, etc."
   ]
  },
  {
   "cell_type": "markdown",
   "metadata": {},
   "source": [
    "The Links and referrals are provided below:<br>\n",
    "<br>\n",
    "Learn Visual Data Analysis through Blogs/Notebooks: https://www.kaggle.com/code/kashnitsky/topic-2-visual-data-analysis-in-python<br>\n",
    "Traffic Accident Dataset: https://www.kaggle.com/datasets/oktayrdeki/traffic-accidents<br>"
   ]
  },
  {
   "cell_type": "markdown",
   "metadata": {},
   "source": [
    "The last Article covered topics around Data Cleaning, Sorting, Transformation and Plotting in the end.<br>\n",
    "This time, we are going to analyze our DataSet Based on Visual Graphics, Diagrams and Plots that come in different Form and Factor.<br>\n",
    "<br>\n",
    "The fact that Grasping through Images/Understanding a lot of information in a short time is made handy due to correct Use/Implementation of Technologies. We can draw a lot of important results/interpretations by having a glimps at seemingly simple charts.<br>\n",
    "<br>\n",
    "Considering the Pro's that come up with Visualization or Visualizing Data, We are going to be using Visual EDA(Exploratory Data Analysis) using Libraries like pandas, matplotlib and seaborn."
   ]
  },
  {
   "cell_type": "markdown",
   "metadata": {},
   "source": [
    "## Import Libraries.\n",
    "\n",
    "Pandas as pd --> Pandas is used for creating a Dataframe(refferd as \"df\"), manipulating and cleaning of data.\n",
    "\n",
    "NumPy as np --> NumPy(Numerical Python) is a well known library for creating and performing Mathematical functions over Multi-Dimensional Arrays.\n",
    "\n",
    "Matplotlib --> A plotting library which also uses the capabilities of NumPy. Provides good visuals.\n",
    "\n",
    "Seaborn as sns --> Seaborn is a visualization library that is built on top of Matplotlib. It provides Plots that are statistically more sophisticated.<br>\n",
    "<br>\n",
    "If recalled, this is exactly the same way I explained all the libraries in my previous Artice(\"An Exploratory Data Analysis of Accidents Using Python, NumPy and Pandas.\")"
   ]
  },
  {
   "cell_type": "code",
   "execution_count": 2,
   "metadata": {},
   "outputs": [],
   "source": [
    "import numpy as np\n",
    "import pandas as pd\n",
    "import matplotlib.pyplot as plt\n",
    "import seaborn as sns\n",
    "sns.set #This sets the default color palette for plots raised by matplotlib/seaborn.\n",
    "\n",
    "#Graphics provided in retina format are more crispy.\n",
    "%config InlineBacked.figure_format = 'retina'"
   ]
  },
  {
   "cell_type": "markdown",
   "metadata": {},
   "source": [
    "## Load DataFrame."
   ]
  },
  {
   "cell_type": "code",
   "execution_count": 6,
   "metadata": {},
   "outputs": [
    {
     "data": {
      "text/html": [
       "<div>\n",
       "<style scoped>\n",
       "    .dataframe tbody tr th:only-of-type {\n",
       "        vertical-align: middle;\n",
       "    }\n",
       "\n",
       "    .dataframe tbody tr th {\n",
       "        vertical-align: top;\n",
       "    }\n",
       "\n",
       "    .dataframe thead th {\n",
       "        text-align: right;\n",
       "    }\n",
       "</style>\n",
       "<table border=\"1\" class=\"dataframe\">\n",
       "  <thead>\n",
       "    <tr style=\"text-align: right;\">\n",
       "      <th></th>\n",
       "      <th>crash_date</th>\n",
       "      <th>traffic_control_device</th>\n",
       "      <th>weather_condition</th>\n",
       "      <th>lighting_condition</th>\n",
       "      <th>first_crash_type</th>\n",
       "      <th>trafficway_type</th>\n",
       "      <th>alignment</th>\n",
       "      <th>roadway_surface_cond</th>\n",
       "      <th>road_defect</th>\n",
       "      <th>crash_type</th>\n",
       "      <th>...</th>\n",
       "      <th>most_severe_injury</th>\n",
       "      <th>injuries_total</th>\n",
       "      <th>injuries_fatal</th>\n",
       "      <th>injuries_incapacitating</th>\n",
       "      <th>injuries_non_incapacitating</th>\n",
       "      <th>injuries_reported_not_evident</th>\n",
       "      <th>injuries_no_indication</th>\n",
       "      <th>crash_hour</th>\n",
       "      <th>crash_day_of_week</th>\n",
       "      <th>crash_month</th>\n",
       "    </tr>\n",
       "  </thead>\n",
       "  <tbody>\n",
       "    <tr>\n",
       "      <th>0</th>\n",
       "      <td>07/29/2023 01:00:00 PM</td>\n",
       "      <td>TRAFFIC SIGNAL</td>\n",
       "      <td>CLEAR</td>\n",
       "      <td>DAYLIGHT</td>\n",
       "      <td>TURNING</td>\n",
       "      <td>NOT DIVIDED</td>\n",
       "      <td>STRAIGHT AND LEVEL</td>\n",
       "      <td>UNKNOWN</td>\n",
       "      <td>UNKNOWN</td>\n",
       "      <td>NO INJURY / DRIVE AWAY</td>\n",
       "      <td>...</td>\n",
       "      <td>NO INDICATION OF INJURY</td>\n",
       "      <td>0.0</td>\n",
       "      <td>0.0</td>\n",
       "      <td>0.0</td>\n",
       "      <td>0.0</td>\n",
       "      <td>0.0</td>\n",
       "      <td>3.0</td>\n",
       "      <td>13</td>\n",
       "      <td>7</td>\n",
       "      <td>7</td>\n",
       "    </tr>\n",
       "    <tr>\n",
       "      <th>1</th>\n",
       "      <td>08/13/2023 12:11:00 AM</td>\n",
       "      <td>TRAFFIC SIGNAL</td>\n",
       "      <td>CLEAR</td>\n",
       "      <td>DARKNESS, LIGHTED ROAD</td>\n",
       "      <td>TURNING</td>\n",
       "      <td>FOUR WAY</td>\n",
       "      <td>STRAIGHT AND LEVEL</td>\n",
       "      <td>DRY</td>\n",
       "      <td>NO DEFECTS</td>\n",
       "      <td>NO INJURY / DRIVE AWAY</td>\n",
       "      <td>...</td>\n",
       "      <td>NO INDICATION OF INJURY</td>\n",
       "      <td>0.0</td>\n",
       "      <td>0.0</td>\n",
       "      <td>0.0</td>\n",
       "      <td>0.0</td>\n",
       "      <td>0.0</td>\n",
       "      <td>2.0</td>\n",
       "      <td>0</td>\n",
       "      <td>1</td>\n",
       "      <td>8</td>\n",
       "    </tr>\n",
       "    <tr>\n",
       "      <th>2</th>\n",
       "      <td>12/09/2021 10:30:00 AM</td>\n",
       "      <td>TRAFFIC SIGNAL</td>\n",
       "      <td>CLEAR</td>\n",
       "      <td>DAYLIGHT</td>\n",
       "      <td>REAR END</td>\n",
       "      <td>T-INTERSECTION</td>\n",
       "      <td>STRAIGHT AND LEVEL</td>\n",
       "      <td>DRY</td>\n",
       "      <td>NO DEFECTS</td>\n",
       "      <td>NO INJURY / DRIVE AWAY</td>\n",
       "      <td>...</td>\n",
       "      <td>NO INDICATION OF INJURY</td>\n",
       "      <td>0.0</td>\n",
       "      <td>0.0</td>\n",
       "      <td>0.0</td>\n",
       "      <td>0.0</td>\n",
       "      <td>0.0</td>\n",
       "      <td>3.0</td>\n",
       "      <td>10</td>\n",
       "      <td>5</td>\n",
       "      <td>12</td>\n",
       "    </tr>\n",
       "    <tr>\n",
       "      <th>3</th>\n",
       "      <td>08/09/2023 07:55:00 PM</td>\n",
       "      <td>TRAFFIC SIGNAL</td>\n",
       "      <td>CLEAR</td>\n",
       "      <td>DAYLIGHT</td>\n",
       "      <td>ANGLE</td>\n",
       "      <td>FOUR WAY</td>\n",
       "      <td>STRAIGHT AND LEVEL</td>\n",
       "      <td>DRY</td>\n",
       "      <td>NO DEFECTS</td>\n",
       "      <td>INJURY AND / OR TOW DUE TO CRASH</td>\n",
       "      <td>...</td>\n",
       "      <td>NONINCAPACITATING INJURY</td>\n",
       "      <td>5.0</td>\n",
       "      <td>0.0</td>\n",
       "      <td>0.0</td>\n",
       "      <td>5.0</td>\n",
       "      <td>0.0</td>\n",
       "      <td>0.0</td>\n",
       "      <td>19</td>\n",
       "      <td>4</td>\n",
       "      <td>8</td>\n",
       "    </tr>\n",
       "    <tr>\n",
       "      <th>4</th>\n",
       "      <td>08/19/2023 02:55:00 PM</td>\n",
       "      <td>TRAFFIC SIGNAL</td>\n",
       "      <td>CLEAR</td>\n",
       "      <td>DAYLIGHT</td>\n",
       "      <td>REAR END</td>\n",
       "      <td>T-INTERSECTION</td>\n",
       "      <td>STRAIGHT AND LEVEL</td>\n",
       "      <td>UNKNOWN</td>\n",
       "      <td>UNKNOWN</td>\n",
       "      <td>NO INJURY / DRIVE AWAY</td>\n",
       "      <td>...</td>\n",
       "      <td>NO INDICATION OF INJURY</td>\n",
       "      <td>0.0</td>\n",
       "      <td>0.0</td>\n",
       "      <td>0.0</td>\n",
       "      <td>0.0</td>\n",
       "      <td>0.0</td>\n",
       "      <td>3.0</td>\n",
       "      <td>14</td>\n",
       "      <td>7</td>\n",
       "      <td>8</td>\n",
       "    </tr>\n",
       "  </tbody>\n",
       "</table>\n",
       "<p>5 rows × 24 columns</p>\n",
       "</div>"
      ],
      "text/plain": [
       "               crash_date traffic_control_device weather_condition  \\\n",
       "0  07/29/2023 01:00:00 PM         TRAFFIC SIGNAL             CLEAR   \n",
       "1  08/13/2023 12:11:00 AM         TRAFFIC SIGNAL             CLEAR   \n",
       "2  12/09/2021 10:30:00 AM         TRAFFIC SIGNAL             CLEAR   \n",
       "3  08/09/2023 07:55:00 PM         TRAFFIC SIGNAL             CLEAR   \n",
       "4  08/19/2023 02:55:00 PM         TRAFFIC SIGNAL             CLEAR   \n",
       "\n",
       "       lighting_condition first_crash_type trafficway_type  \\\n",
       "0                DAYLIGHT          TURNING     NOT DIVIDED   \n",
       "1  DARKNESS, LIGHTED ROAD          TURNING        FOUR WAY   \n",
       "2                DAYLIGHT         REAR END  T-INTERSECTION   \n",
       "3                DAYLIGHT            ANGLE        FOUR WAY   \n",
       "4                DAYLIGHT         REAR END  T-INTERSECTION   \n",
       "\n",
       "            alignment roadway_surface_cond road_defect  \\\n",
       "0  STRAIGHT AND LEVEL              UNKNOWN     UNKNOWN   \n",
       "1  STRAIGHT AND LEVEL                  DRY  NO DEFECTS   \n",
       "2  STRAIGHT AND LEVEL                  DRY  NO DEFECTS   \n",
       "3  STRAIGHT AND LEVEL                  DRY  NO DEFECTS   \n",
       "4  STRAIGHT AND LEVEL              UNKNOWN     UNKNOWN   \n",
       "\n",
       "                         crash_type  ...        most_severe_injury  \\\n",
       "0            NO INJURY / DRIVE AWAY  ...   NO INDICATION OF INJURY   \n",
       "1            NO INJURY / DRIVE AWAY  ...   NO INDICATION OF INJURY   \n",
       "2            NO INJURY / DRIVE AWAY  ...   NO INDICATION OF INJURY   \n",
       "3  INJURY AND / OR TOW DUE TO CRASH  ...  NONINCAPACITATING INJURY   \n",
       "4            NO INJURY / DRIVE AWAY  ...   NO INDICATION OF INJURY   \n",
       "\n",
       "  injuries_total injuries_fatal  injuries_incapacitating  \\\n",
       "0            0.0            0.0                      0.0   \n",
       "1            0.0            0.0                      0.0   \n",
       "2            0.0            0.0                      0.0   \n",
       "3            5.0            0.0                      0.0   \n",
       "4            0.0            0.0                      0.0   \n",
       "\n",
       "  injuries_non_incapacitating  injuries_reported_not_evident  \\\n",
       "0                         0.0                            0.0   \n",
       "1                         0.0                            0.0   \n",
       "2                         0.0                            0.0   \n",
       "3                         5.0                            0.0   \n",
       "4                         0.0                            0.0   \n",
       "\n",
       "   injuries_no_indication  crash_hour  crash_day_of_week  crash_month  \n",
       "0                     3.0          13                  7            7  \n",
       "1                     2.0           0                  1            8  \n",
       "2                     3.0          10                  5           12  \n",
       "3                     0.0          19                  4            8  \n",
       "4                     3.0          14                  7            8  \n",
       "\n",
       "[5 rows x 24 columns]"
      ]
     },
     "execution_count": 6,
     "metadata": {},
     "output_type": "execute_result"
    }
   ],
   "source": [
    "df = pd.read_csv(\"traffic_accidents.csv\")\n",
    "df.head()"
   ]
  },
  {
   "cell_type": "code",
   "execution_count": 11,
   "metadata": {},
   "outputs": [
    {
     "name": "stdout",
     "output_type": "stream",
     "text": [
      "<class 'pandas.core.frame.DataFrame'>\n",
      "RangeIndex: 209306 entries, 0 to 209305\n",
      "Data columns (total 24 columns):\n",
      " #   Column                         Non-Null Count   Dtype  \n",
      "---  ------                         --------------   -----  \n",
      " 0   crash_date                     209306 non-null  object \n",
      " 1   traffic_control_device         209306 non-null  object \n",
      " 2   weather_condition              209306 non-null  object \n",
      " 3   lighting_condition             209306 non-null  object \n",
      " 4   first_crash_type               209306 non-null  object \n",
      " 5   trafficway_type                209306 non-null  object \n",
      " 6   alignment                      209306 non-null  object \n",
      " 7   roadway_surface_cond           209306 non-null  object \n",
      " 8   road_defect                    209306 non-null  object \n",
      " 9   crash_type                     209306 non-null  object \n",
      " 10  intersection_related_i         209306 non-null  object \n",
      " 11  damage                         209306 non-null  object \n",
      " 12  prim_contributory_cause        209306 non-null  object \n",
      " 13  num_units                      209306 non-null  int64  \n",
      " 14  most_severe_injury             209306 non-null  object \n",
      " 15  injuries_total                 209306 non-null  float64\n",
      " 16  injuries_fatal                 209306 non-null  float64\n",
      " 17  injuries_incapacitating        209306 non-null  float64\n",
      " 18  injuries_non_incapacitating    209306 non-null  float64\n",
      " 19  injuries_reported_not_evident  209306 non-null  float64\n",
      " 20  injuries_no_indication         209306 non-null  float64\n",
      " 21  crash_hour                     209306 non-null  int64  \n",
      " 22  crash_day_of_week              209306 non-null  int64  \n",
      " 23  crash_month                    209306 non-null  int64  \n",
      "dtypes: float64(6), int64(4), object(14)\n",
      "memory usage: 38.3+ MB\n"
     ]
    }
   ],
   "source": [
    "df.info()"
   ]
  },
  {
   "cell_type": "markdown",
   "metadata": {},
   "source": [
    "## Univariate Visualization.\n",
    "\n",
    "Univariate Analysis focuses on 1 feature a time, When we analyze around Univariate Visualizations we are interested in the individual Distribution of of its values only.<br>\n",
    "Before hand we will be considering different statistical types of features and their respective tools required for Visual Analysis."
   ]
  },
  {
   "cell_type": "markdown",
   "metadata": {},
   "source": [
    "### Quantitative Features\n",
    "\n",
    "These Features take Ordered Numerical Values. These values can be Discrete, like integers or Continuous like real numbers. These express a count or a measurement."
   ]
  },
  {
   "cell_type": "markdown",
   "metadata": {},
   "source": [
    "#### Histograms and Density Plots\n",
    "\n",
    "The Simplest Method to take a look at the distribution of a numerical variable is to plot its histogram.<br>\n",
    "This can be done using the \".hist()\" method.<br>\n",
    "The method takes an input, \"figsize=( , )\" this is the Plot size of our Axis.\n",
    "\n",
    "1. Create a List of all Features that are \"numerical\" or \"datetype\" values and want to be included.\n",
    "2. Refer to your DataFrame using df[list].hist(figsize=( , ))"
   ]
  },
  {
   "cell_type": "markdown",
   "metadata": {},
   "source": [
    "Say, we want to check the distribution based on \"Total number of Injuries caused in an Accident\" or \"The most Frequent day of the week for an accident to occur.\""
   ]
  },
  {
   "cell_type": "code",
   "execution_count": 12,
   "metadata": {},
   "outputs": [
    {
     "data": {
      "text/plain": [
       "array([[<Axes: title={'center': 'injuries_total'}>,\n",
       "        <Axes: title={'center': 'crash_day_of_week'}>]], dtype=object)"
      ]
     },
     "execution_count": 12,
     "metadata": {},
     "output_type": "execute_result"
    },
    {
     "data": {
      "image/png": "[encoded data removed]",
      "text/plain": [
       "<Figure size 1000x400 with 2 Axes>"
      ]
     },
     "metadata": {},
     "output_type": "display_data"
    }
   ],
   "source": [
    "features = [\"injuries_total\", \"crash_day_of_week\"]\n",
    "df[features].hist(figsize=(10,4))"
   ]
  },
  {
   "cell_type": "markdown",
   "metadata": {},
   "source": [
    "From the above Plots, we can infer that:<br>\n",
    "&emsp;1. There are more accidents with no injuries caused.<br>\n",
    "&emsp;2. It can be seen the last day of a week(Day 7/Sunday) is when most accidents are caused, this can be because there is a leave to everyone, hence having a tour, spending time with friends/family, walks, etc are more ;common, hence the increase in volume of vehicle count. This increases the number of Accidents."
   ]
  },
  {
   "cell_type": "markdown",
   "metadata": {},
   "source": [
    "These Histograms are Plotted in groups of equal value range, also referred as \"bins\". The shape of a histogram may also contain clues about the distribution(Guassian, Exponential, etc.) which is present but not observed clearly. If present, one can also determine any skewness in its shape."
   ]
  },
  {
   "cell_type": "markdown",
   "metadata": {},
   "source": [
    "When it comes to the first plot, it resembles a \"skew right\" distribution, whereas the other shows a \"uniform\" distribution.<br>\n",
    "These can further be checked using mathematical operations over statistics and probability."
   ]
  },
  {
   "cell_type": "markdown",
   "metadata": {},
   "source": [
    "There is a more Smoother(This relies on a mathematical concept \"kernel smoother\", that estimates a real valued function as the weighted average of neighboring observed data.), hence these plots are also called the \"Kernel Density Plots\".<br>\n",
    "The Major advantage about these is, they do not depend on the size of bins."
   ]
  },
  {
   "cell_type": "markdown",
   "metadata": {},
   "source": [
    "Firstly, Understand the syntax:<br>\n",
    "\n",
    "1. target the dataframe and its feature, \"df[features]\".\n",
    "2. select the \".plot()\" method and pass 5 arguments, \"kind\", \"subplots\", \"layout\", \"sharex\", \"figsize\".<br><br>\n",
    "kind --> Type of Graph/Plot to generate.\n",
    "subplots --> Indicates that separate subplots should be created for each column in features. Instead of overlaying all density plots on a single axis, this creates individual plots for each feature.<br><br>\n",
    "layout -->  Defines the arrangement of the subplots. Here, (1, 2) specifies a layout with 1 row and 2 columns. This is useful for organizing multiple plots in a grid.<br><br>\n",
    "sharex --> Share the x-axis with other. This is equivalent to passing sharex=other when constructing the Axes, and cannot be used if the x-axis is already being shared with another Axes.<br>"
   ]
  },
  {
   "cell_type": "code",
   "execution_count": 13,
   "metadata": {},
   "outputs": [
    {
     "data": {
      "text/plain": [
       "array([[<Axes: ylabel='Density'>, <Axes: ylabel='Density'>]], dtype=object)"
      ]
     },
     "execution_count": 13,
     "metadata": {},
     "output_type": "execute_result"
    },
    {
     "data": {
      "image/png": "[encoded data removed]",
      "text/plain": [
       "<Figure size 1000x400 with 2 Axes>"
      ]
     },
     "metadata": {},
     "output_type": "display_data"
    }
   ],
   "source": [
    "df[features].plot(\n",
    "    kind=\"density\", subplots=True, layout=(1,2), sharex=False, figsize=(10,4)\n",
    ")"
   ]
  },
  {
   "cell_type": "markdown",
   "metadata": {},
   "source": [
    "There is another approach to plotting these graphs, we can use seaborn's \".distplot()\" method. This displays both the histogram on KDE(kernel desnity estimate) on top of each other by default."
   ]
  },
  {
   "cell_type": "code",
   "execution_count": 18,
   "metadata": {},
   "outputs": [
    {
     "name": "stderr",
     "output_type": "stream",
     "text": [
      "C:\\Users\\Thaka\\AppData\\Local\\Temp\\ipykernel_12672\\189234495.py:1: UserWarning: \n",
      "\n",
      "`distplot` is a deprecated function and will be removed in seaborn v0.14.0.\n",
      "\n",
      "Please adapt your code to use either `displot` (a figure-level function with\n",
      "similar flexibility) or `histplot` (an axes-level function for histograms).\n",
      "\n",
      "For a guide to updating your code to use the new functions, please see\n",
      "https://gist.github.com/mwaskom/de44147ed2974457ad6372750bbe5751\n",
      "\n",
      "  sns.distplot(df['injuries_total'])\n"
     ]
    },
    {
     "data": {
      "text/plain": [
       "<Axes: xlabel='injuries_total', ylabel='Density'>"
      ]
     },
     "execution_count": 18,
     "metadata": {},
     "output_type": "execute_result"
    },
    {
     "data": {
      "image/png": "[encoded data removed]",
      "text/plain": [
       "<Figure size 640x480 with 1 Axes>"
      ]
     },
     "metadata": {},
     "output_type": "display_data"
    }
   ],
   "source": [
    "sns.distplot(df['injuries_total'])"
   ]
  },
  {
   "cell_type": "markdown",
   "metadata": {},
   "source": [
    "The height of the histogram is normalized and shows density instead of the number of examples in each bin."
   ]
  },
  {
   "cell_type": "code",
   "execution_count": null,
   "metadata": {},
   "outputs": [],
   "source": []
  }
 ],
 "metadata": {
  "kernelspec": {
   "display_name": "Python 3 (ipykernel)",
   "language": "python",
   "name": "python3"
  },
  "language_info": {
   "codemirror_mode": {
    "name": "ipython",
    "version": 3
   },
   "file_extension": ".py",
   "mimetype": "text/x-python",
   "name": "python",
   "nbconvert_exporter": "python",
   "pygments_lexer": "ipython3",
   "version": "3.12.5"
  }
 },
 "nbformat": 4,
 "nbformat_minor": 4
}
